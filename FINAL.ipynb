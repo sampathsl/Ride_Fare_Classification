{
 "cells": [
  {
   "cell_type": "code",
   "execution_count": 15,
   "metadata": {
    "pycharm": {
     "name": "#%%\n"
    }
   },
   "outputs": [],
   "source": [
    "import pandas as pd\n",
    "import numpy as np\n",
    "import seaborn as sns\n",
    "import matplotlib.pyplot as plt\n",
    "\n",
    "from sklearn.model_selection import train_test_split\n",
    "from sklearn.tree import DecisionTreeClassifier"
   ]
  },
  {
   "cell_type": "code",
   "execution_count": 16,
   "metadata": {
    "pycharm": {
     "name": "#%%\n"
    }
   },
   "outputs": [],
   "source": [
    "test_data = pd.read_csv(\"test.csv\")\n",
    "train_data = pd.read_csv(\"train1.csv\")"
   ]
  },
  {
   "cell_type": "code",
   "execution_count": 17,
   "metadata": {
    "pycharm": {
     "name": "#%%\n"
    }
   },
   "outputs": [
    {
     "data": {
      "text/plain": "tripid                       False\nadditional_fare              False\nduration                     False\nmeter_waiting                False\nmeter_waiting_fare           False\nmeter_waiting_till_pickup    False\npickup_time                  False\ndrop_time                    False\npick_lat                     False\npick_lon                     False\ndrop_lat                     False\ndrop_lon                     False\nfare                         False\nlabel                        False\ndtype: bool"
     },
     "execution_count": 17,
     "metadata": {},
     "output_type": "execute_result"
    }
   ],
   "source": [
    "test_data.isnull().any()\n",
    "train_data.isnull().any()"
   ]
  },
  {
   "cell_type": "code",
   "execution_count": 18,
   "metadata": {
    "pycharm": {
     "name": "#%%\n"
    }
   },
   "outputs": [
    {
     "name": "stdout",
     "output_type": "stream",
     "text": [
      "(16968, 14)\n"
     ]
    }
   ],
   "source": [
    "print(train_data.shape)"
   ]
  },
  {
   "cell_type": "code",
   "execution_count": 19,
   "metadata": {
    "pycharm": {
     "name": "#%%\n"
    }
   },
   "outputs": [
    {
     "data": {
      "text/plain": "      tripid  additional_fare  duration  meter_waiting  meter_waiting_fare  \\\n0  191444740              0.0      2505            538                 0.0   \n1  191838640              0.0      1404            310                 0.0   \n2  191840284              0.0      2699            340                 0.0   \n3  191841099              0.0      2446            840                 0.0   \n4  191839931              0.0      1837            194                 0.0   \n\n   meter_waiting_till_pickup       pickup_time         drop_time  pick_lat  \\\n0                        163  11/12/2019 16:14  11/12/2019 16:56   6.76174   \n1                        144   11/14/2019 8:17   11/14/2019 8:41   6.84326   \n2                        322   11/14/2019 8:23   11/14/2019 9:08   6.84493   \n3                        231   11/14/2019 8:25   11/14/2019 9:06   6.85527   \n4                        402   11/14/2019 8:27   11/14/2019 8:57   6.81223   \n\n   pick_lon  drop_lat  drop_lon  fare      label  \n0   79.8980   6.87982   79.8740   0.0  incorrect  \n1   79.8642   6.86544   79.8950   0.0  incorrect  \n2   79.9365   6.92584   79.8529   0.0  incorrect  \n3   79.8882   6.87782   79.8773   0.0    correct  \n4   79.9336   6.87004   79.8793   0.0  incorrect  ",
      "text/html": "<div>\n<style scoped>\n    .dataframe tbody tr th:only-of-type {\n        vertical-align: middle;\n    }\n\n    .dataframe tbody tr th {\n        vertical-align: top;\n    }\n\n    .dataframe thead th {\n        text-align: right;\n    }\n</style>\n<table border=\"1\" class=\"dataframe\">\n  <thead>\n    <tr style=\"text-align: right;\">\n      <th></th>\n      <th>tripid</th>\n      <th>additional_fare</th>\n      <th>duration</th>\n      <th>meter_waiting</th>\n      <th>meter_waiting_fare</th>\n      <th>meter_waiting_till_pickup</th>\n      <th>pickup_time</th>\n      <th>drop_time</th>\n      <th>pick_lat</th>\n      <th>pick_lon</th>\n      <th>drop_lat</th>\n      <th>drop_lon</th>\n      <th>fare</th>\n      <th>label</th>\n    </tr>\n  </thead>\n  <tbody>\n    <tr>\n      <th>0</th>\n      <td>191444740</td>\n      <td>0.0</td>\n      <td>2505</td>\n      <td>538</td>\n      <td>0.0</td>\n      <td>163</td>\n      <td>11/12/2019 16:14</td>\n      <td>11/12/2019 16:56</td>\n      <td>6.76174</td>\n      <td>79.8980</td>\n      <td>6.87982</td>\n      <td>79.8740</td>\n      <td>0.0</td>\n      <td>incorrect</td>\n    </tr>\n    <tr>\n      <th>1</th>\n      <td>191838640</td>\n      <td>0.0</td>\n      <td>1404</td>\n      <td>310</td>\n      <td>0.0</td>\n      <td>144</td>\n      <td>11/14/2019 8:17</td>\n      <td>11/14/2019 8:41</td>\n      <td>6.84326</td>\n      <td>79.8642</td>\n      <td>6.86544</td>\n      <td>79.8950</td>\n      <td>0.0</td>\n      <td>incorrect</td>\n    </tr>\n    <tr>\n      <th>2</th>\n      <td>191840284</td>\n      <td>0.0</td>\n      <td>2699</td>\n      <td>340</td>\n      <td>0.0</td>\n      <td>322</td>\n      <td>11/14/2019 8:23</td>\n      <td>11/14/2019 9:08</td>\n      <td>6.84493</td>\n      <td>79.9365</td>\n      <td>6.92584</td>\n      <td>79.8529</td>\n      <td>0.0</td>\n      <td>incorrect</td>\n    </tr>\n    <tr>\n      <th>3</th>\n      <td>191841099</td>\n      <td>0.0</td>\n      <td>2446</td>\n      <td>840</td>\n      <td>0.0</td>\n      <td>231</td>\n      <td>11/14/2019 8:25</td>\n      <td>11/14/2019 9:06</td>\n      <td>6.85527</td>\n      <td>79.8882</td>\n      <td>6.87782</td>\n      <td>79.8773</td>\n      <td>0.0</td>\n      <td>correct</td>\n    </tr>\n    <tr>\n      <th>4</th>\n      <td>191839931</td>\n      <td>0.0</td>\n      <td>1837</td>\n      <td>194</td>\n      <td>0.0</td>\n      <td>402</td>\n      <td>11/14/2019 8:27</td>\n      <td>11/14/2019 8:57</td>\n      <td>6.81223</td>\n      <td>79.9336</td>\n      <td>6.87004</td>\n      <td>79.8793</td>\n      <td>0.0</td>\n      <td>incorrect</td>\n    </tr>\n  </tbody>\n</table>\n</div>"
     },
     "execution_count": 19,
     "metadata": {},
     "output_type": "execute_result"
    }
   ],
   "source": [
    "train_data.head()"
   ]
  },
  {
   "cell_type": "code",
   "execution_count": 20,
   "metadata": {},
   "outputs": [
    {
     "data": {
      "text/plain": "   additional_fare  duration  meter_waiting  meter_waiting_fare  \\\n0              0.0      2505            538                 0.0   \n1              0.0      1404            310                 0.0   \n2              0.0      2699            340                 0.0   \n3              0.0      2446            840                 0.0   \n4              0.0      1837            194                 0.0   \n\n   meter_waiting_till_pickup  pick_lat  pick_lon  drop_lat  drop_lon  fare  \\\n0                        163   6.76174   79.8980   6.87982   79.8740   0.0   \n1                        144   6.84326   79.8642   6.86544   79.8950   0.0   \n2                        322   6.84493   79.9365   6.92584   79.8529   0.0   \n3                        231   6.85527   79.8882   6.87782   79.8773   0.0   \n4                        402   6.81223   79.9336   6.87004   79.8793   0.0   \n\n       label  \n0  incorrect  \n1  incorrect  \n2  incorrect  \n3    correct  \n4  incorrect  ",
      "text/html": "<div>\n<style scoped>\n    .dataframe tbody tr th:only-of-type {\n        vertical-align: middle;\n    }\n\n    .dataframe tbody tr th {\n        vertical-align: top;\n    }\n\n    .dataframe thead th {\n        text-align: right;\n    }\n</style>\n<table border=\"1\" class=\"dataframe\">\n  <thead>\n    <tr style=\"text-align: right;\">\n      <th></th>\n      <th>additional_fare</th>\n      <th>duration</th>\n      <th>meter_waiting</th>\n      <th>meter_waiting_fare</th>\n      <th>meter_waiting_till_pickup</th>\n      <th>pick_lat</th>\n      <th>pick_lon</th>\n      <th>drop_lat</th>\n      <th>drop_lon</th>\n      <th>fare</th>\n      <th>label</th>\n    </tr>\n  </thead>\n  <tbody>\n    <tr>\n      <th>0</th>\n      <td>0.0</td>\n      <td>2505</td>\n      <td>538</td>\n      <td>0.0</td>\n      <td>163</td>\n      <td>6.76174</td>\n      <td>79.8980</td>\n      <td>6.87982</td>\n      <td>79.8740</td>\n      <td>0.0</td>\n      <td>incorrect</td>\n    </tr>\n    <tr>\n      <th>1</th>\n      <td>0.0</td>\n      <td>1404</td>\n      <td>310</td>\n      <td>0.0</td>\n      <td>144</td>\n      <td>6.84326</td>\n      <td>79.8642</td>\n      <td>6.86544</td>\n      <td>79.8950</td>\n      <td>0.0</td>\n      <td>incorrect</td>\n    </tr>\n    <tr>\n      <th>2</th>\n      <td>0.0</td>\n      <td>2699</td>\n      <td>340</td>\n      <td>0.0</td>\n      <td>322</td>\n      <td>6.84493</td>\n      <td>79.9365</td>\n      <td>6.92584</td>\n      <td>79.8529</td>\n      <td>0.0</td>\n      <td>incorrect</td>\n    </tr>\n    <tr>\n      <th>3</th>\n      <td>0.0</td>\n      <td>2446</td>\n      <td>840</td>\n      <td>0.0</td>\n      <td>231</td>\n      <td>6.85527</td>\n      <td>79.8882</td>\n      <td>6.87782</td>\n      <td>79.8773</td>\n      <td>0.0</td>\n      <td>correct</td>\n    </tr>\n    <tr>\n      <th>4</th>\n      <td>0.0</td>\n      <td>1837</td>\n      <td>194</td>\n      <td>0.0</td>\n      <td>402</td>\n      <td>6.81223</td>\n      <td>79.9336</td>\n      <td>6.87004</td>\n      <td>79.8793</td>\n      <td>0.0</td>\n      <td>incorrect</td>\n    </tr>\n  </tbody>\n</table>\n</div>"
     },
     "execution_count": 20,
     "metadata": {},
     "output_type": "execute_result"
    }
   ],
   "source": [
    "train_data_final = train_data[['additional_fare', 'duration', 'meter_waiting', 'meter_waiting_fare', 'meter_waiting_till_pickup','pick_lat','pick_lon', 'drop_lat', 'drop_lon', 'fare', 'label']]\n",
    "\n",
    "train_data_final.head()"
   ]
  },
  {
   "cell_type": "code",
   "execution_count": 21,
   "metadata": {},
   "outputs": [
    {
     "ename": "KeyError",
     "evalue": "\"['label'] not in index\"",
     "output_type": "error",
     "traceback": [
      "\u001B[1;31m---------------------------------------------------------------------------\u001B[0m",
      "\u001B[1;31mKeyError\u001B[0m                                  Traceback (most recent call last)",
      "\u001B[1;32m<ipython-input-21-0ececa6a8f7b>\u001B[0m in \u001B[0;36m<module>\u001B[1;34m\u001B[0m\n\u001B[1;32m----> 1\u001B[1;33m \u001B[0mtest_data_final\u001B[0m \u001B[1;33m=\u001B[0m \u001B[0mtest_data\u001B[0m\u001B[1;33m[\u001B[0m\u001B[1;33m[\u001B[0m\u001B[1;34m'additional_fare'\u001B[0m\u001B[1;33m,\u001B[0m \u001B[1;34m'duration'\u001B[0m\u001B[1;33m,\u001B[0m \u001B[1;34m'meter_waiting'\u001B[0m\u001B[1;33m,\u001B[0m \u001B[1;34m'meter_waiting_fare'\u001B[0m\u001B[1;33m,\u001B[0m \u001B[1;34m'meter_waiting_till_pickup'\u001B[0m\u001B[1;33m,\u001B[0m\u001B[1;34m'pick_lat'\u001B[0m\u001B[1;33m,\u001B[0m\u001B[1;34m'pick_lon'\u001B[0m\u001B[1;33m,\u001B[0m \u001B[1;34m'drop_lat'\u001B[0m\u001B[1;33m,\u001B[0m \u001B[1;34m'drop_lon'\u001B[0m\u001B[1;33m,\u001B[0m \u001B[1;34m'fare'\u001B[0m\u001B[1;33m,\u001B[0m \u001B[1;34m'label'\u001B[0m\u001B[1;33m]\u001B[0m\u001B[1;33m]\u001B[0m\u001B[1;33m\u001B[0m\u001B[1;33m\u001B[0m\u001B[0m\n\u001B[0m\u001B[0;32m      2\u001B[0m \u001B[1;33m\u001B[0m\u001B[0m\n\u001B[0;32m      3\u001B[0m \u001B[0mtest_data_final\u001B[0m\u001B[1;33m.\u001B[0m\u001B[0mhead\u001B[0m\u001B[1;33m(\u001B[0m\u001B[1;33m)\u001B[0m\u001B[1;33m\u001B[0m\u001B[1;33m\u001B[0m\u001B[0m\n\u001B[0;32m      4\u001B[0m \u001B[1;33m\u001B[0m\u001B[0m\n",
      "\u001B[1;32m~\\anaconda3\\lib\\site-packages\\pandas\\core\\frame.py\u001B[0m in \u001B[0;36m__getitem__\u001B[1;34m(self, key)\u001B[0m\n\u001B[0;32m   2804\u001B[0m             \u001B[1;32mif\u001B[0m \u001B[0mis_iterator\u001B[0m\u001B[1;33m(\u001B[0m\u001B[0mkey\u001B[0m\u001B[1;33m)\u001B[0m\u001B[1;33m:\u001B[0m\u001B[1;33m\u001B[0m\u001B[1;33m\u001B[0m\u001B[0m\n\u001B[0;32m   2805\u001B[0m                 \u001B[0mkey\u001B[0m \u001B[1;33m=\u001B[0m \u001B[0mlist\u001B[0m\u001B[1;33m(\u001B[0m\u001B[0mkey\u001B[0m\u001B[1;33m)\u001B[0m\u001B[1;33m\u001B[0m\u001B[1;33m\u001B[0m\u001B[0m\n\u001B[1;32m-> 2806\u001B[1;33m             \u001B[0mindexer\u001B[0m \u001B[1;33m=\u001B[0m \u001B[0mself\u001B[0m\u001B[1;33m.\u001B[0m\u001B[0mloc\u001B[0m\u001B[1;33m.\u001B[0m\u001B[0m_get_listlike_indexer\u001B[0m\u001B[1;33m(\u001B[0m\u001B[0mkey\u001B[0m\u001B[1;33m,\u001B[0m \u001B[0maxis\u001B[0m\u001B[1;33m=\u001B[0m\u001B[1;36m1\u001B[0m\u001B[1;33m,\u001B[0m \u001B[0mraise_missing\u001B[0m\u001B[1;33m=\u001B[0m\u001B[1;32mTrue\u001B[0m\u001B[1;33m)\u001B[0m\u001B[1;33m[\u001B[0m\u001B[1;36m1\u001B[0m\u001B[1;33m]\u001B[0m\u001B[1;33m\u001B[0m\u001B[1;33m\u001B[0m\u001B[0m\n\u001B[0m\u001B[0;32m   2807\u001B[0m \u001B[1;33m\u001B[0m\u001B[0m\n\u001B[0;32m   2808\u001B[0m         \u001B[1;31m# take() does not accept boolean indexers\u001B[0m\u001B[1;33m\u001B[0m\u001B[1;33m\u001B[0m\u001B[1;33m\u001B[0m\u001B[0m\n",
      "\u001B[1;32m~\\anaconda3\\lib\\site-packages\\pandas\\core\\indexing.py\u001B[0m in \u001B[0;36m_get_listlike_indexer\u001B[1;34m(self, key, axis, raise_missing)\u001B[0m\n\u001B[0;32m   1550\u001B[0m \u001B[1;33m\u001B[0m\u001B[0m\n\u001B[0;32m   1551\u001B[0m         self._validate_read_indexer(\n\u001B[1;32m-> 1552\u001B[1;33m             \u001B[0mkeyarr\u001B[0m\u001B[1;33m,\u001B[0m \u001B[0mindexer\u001B[0m\u001B[1;33m,\u001B[0m \u001B[0mo\u001B[0m\u001B[1;33m.\u001B[0m\u001B[0m_get_axis_number\u001B[0m\u001B[1;33m(\u001B[0m\u001B[0maxis\u001B[0m\u001B[1;33m)\u001B[0m\u001B[1;33m,\u001B[0m \u001B[0mraise_missing\u001B[0m\u001B[1;33m=\u001B[0m\u001B[0mraise_missing\u001B[0m\u001B[1;33m\u001B[0m\u001B[1;33m\u001B[0m\u001B[0m\n\u001B[0m\u001B[0;32m   1553\u001B[0m         )\n\u001B[0;32m   1554\u001B[0m         \u001B[1;32mreturn\u001B[0m \u001B[0mkeyarr\u001B[0m\u001B[1;33m,\u001B[0m \u001B[0mindexer\u001B[0m\u001B[1;33m\u001B[0m\u001B[1;33m\u001B[0m\u001B[0m\n",
      "\u001B[1;32m~\\anaconda3\\lib\\site-packages\\pandas\\core\\indexing.py\u001B[0m in \u001B[0;36m_validate_read_indexer\u001B[1;34m(self, key, indexer, axis, raise_missing)\u001B[0m\n\u001B[0;32m   1643\u001B[0m             \u001B[1;32mif\u001B[0m \u001B[1;32mnot\u001B[0m \u001B[1;33m(\u001B[0m\u001B[0mself\u001B[0m\u001B[1;33m.\u001B[0m\u001B[0mname\u001B[0m \u001B[1;33m==\u001B[0m \u001B[1;34m\"loc\"\u001B[0m \u001B[1;32mand\u001B[0m \u001B[1;32mnot\u001B[0m \u001B[0mraise_missing\u001B[0m\u001B[1;33m)\u001B[0m\u001B[1;33m:\u001B[0m\u001B[1;33m\u001B[0m\u001B[1;33m\u001B[0m\u001B[0m\n\u001B[0;32m   1644\u001B[0m                 \u001B[0mnot_found\u001B[0m \u001B[1;33m=\u001B[0m \u001B[0mlist\u001B[0m\u001B[1;33m(\u001B[0m\u001B[0mset\u001B[0m\u001B[1;33m(\u001B[0m\u001B[0mkey\u001B[0m\u001B[1;33m)\u001B[0m \u001B[1;33m-\u001B[0m \u001B[0mset\u001B[0m\u001B[1;33m(\u001B[0m\u001B[0max\u001B[0m\u001B[1;33m)\u001B[0m\u001B[1;33m)\u001B[0m\u001B[1;33m\u001B[0m\u001B[1;33m\u001B[0m\u001B[0m\n\u001B[1;32m-> 1645\u001B[1;33m                 \u001B[1;32mraise\u001B[0m \u001B[0mKeyError\u001B[0m\u001B[1;33m(\u001B[0m\u001B[1;34mf\"{not_found} not in index\"\u001B[0m\u001B[1;33m)\u001B[0m\u001B[1;33m\u001B[0m\u001B[1;33m\u001B[0m\u001B[0m\n\u001B[0m\u001B[0;32m   1646\u001B[0m \u001B[1;33m\u001B[0m\u001B[0m\n\u001B[0;32m   1647\u001B[0m             \u001B[1;31m# we skip the warning on Categorical/Interval\u001B[0m\u001B[1;33m\u001B[0m\u001B[1;33m\u001B[0m\u001B[1;33m\u001B[0m\u001B[0m\n",
      "\u001B[1;31mKeyError\u001B[0m: \"['label'] not in index\""
     ]
    }
   ],
   "source": [
    "test_data_final = test_data[['additional_fare', 'duration', 'meter_waiting', 'meter_waiting_fare', 'meter_waiting_till_pickup','pick_lat','pick_lon', 'drop_lat', 'drop_lon', 'fare', 'label']]\n",
    "\n",
    "test_data_final.head()"
   ]
  },
  {
   "cell_type": "code",
   "execution_count": null,
   "metadata": {},
   "outputs": [],
   "source": [
    "X = train_data_final.loc[:, train_data_final.columns != \"label\"]\n",
    "Y = train_data_final.loc[:, train_data_final.columns == \"label\"]"
   ]
  },
  {
   "cell_type": "code",
   "execution_count": null,
   "metadata": {},
   "outputs": [],
   "source": [
    "X_train, X_test, y_train, y_test = train_test_split(X, Y)"
   ]
  },
  {
   "cell_type": "code",
   "execution_count": null,
   "metadata": {},
   "outputs": [],
   "source": [
    "from sklearn.ensemble import RandomForestClassifier\n",
    "clf = RandomForestClassifier(n_estimators=1000)"
   ]
  },
  {
   "cell_type": "code",
   "execution_count": null,
   "metadata": {},
   "outputs": [],
   "source": [
    "clf.fit(X_train, y_train.values.ravel())"
   ]
  },
  {
   "cell_type": "code",
   "execution_count": null,
   "metadata": {},
   "outputs": [],
   "source": [
    "y_pred = clf.predict(test_data_final)"
   ]
  },
  {
   "cell_type": "code",
   "execution_count": null,
   "metadata": {},
   "outputs": [],
   "source": [
    "columns = train_data.columns\n",
    "print('-------------------------------------------------')\n",
    "# Print the name and gini importance of each feature\n",
    "for feature in zip(columns, clf.feature_importances_):\n",
    "    print(feature)\n",
    "print('-------------------------------------------------')"
   ]
  },
  {
   "cell_type": "code",
   "execution_count": null,
   "metadata": {},
   "outputs": [],
   "source": [
    "# from sklearn import metrics\n",
    "# print(\"Accuracy:\",metrics.accuracy_score(y_test, y_pred))"
   ]
  },
  {
   "cell_type": "code",
   "execution_count": null,
   "metadata": {},
   "outputs": [],
   "source": [
    "with open('submission_1.csv', 'w') as fp:\n",
    "    fp.write(\"tripid,prediction\\n\")\n",
    "    for i,p in enumerate(y_pred):\n",
    "        fp.write(\"{},{}\\n\".format(test_data['tripid'].iloc[i], ('1' if p == 'correct' else '0')))"
   ]
  },
  {
   "cell_type": "code",
   "execution_count": null,
   "metadata": {},
   "outputs": [],
   "source": [
    "train_data_final = train_data[['additional_fare', 'duration', 'meter_waiting_fare', 'meter_waiting_till_pickup','pick_lat','pick_lon', 'drop_lat', 'drop_lon', 'fare', 'label']]\n",
    "\n",
    "train_data_final.head()\n",
    "\n",
    "test_data_final = test_data[['additional_fare', 'duration', 'meter_waiting_fare', 'meter_waiting_till_pickup','pick_lat','pick_lon', 'drop_lat', 'drop_lon', 'fare']]\n",
    "\n",
    "test_data_final.head()"
   ]
  },
  {
   "cell_type": "code",
   "execution_count": null,
   "metadata": {
    "scrolled": true
   },
   "outputs": [],
   "source": [
    "test_data = pd.read_csv(\"test.csv\")\n",
    "train_data = pd.read_csv(\"train2.csv\")\n",
    "\n",
    "test_data.isnull().any()\n",
    "train_data.isnull().any()\n",
    "\n",
    "X = train_data_final.loc[:, train_data_final.columns != \"label\"]\n",
    "Y = train_data_final.loc[:, train_data_final.columns == \"label\"]\n",
    "\n",
    "X_train, X_test, y_train, y_test = train_test_split(X, Y)\n",
    "\n",
    "from sklearn.ensemble import RandomForestClassifier\n",
    "clf = RandomForestClassifier(n_estimators=1000)\n",
    "clf.fit(X_train, y_train.values.ravel())\n",
    "\n",
    "y_pred = clf.predict(test_data_final)\n",
    "\n",
    "columns = train_data.columns\n",
    "print('-------------------------------------------------')\n",
    "# Print the name and gini importance of each feature\n",
    "for feature in zip(columns, clf.feature_importances_):\n",
    "    print(feature)\n",
    "print('-------------------------------------------------')"
   ]
  },
  {
   "cell_type": "code",
   "execution_count": null,
   "metadata": {},
   "outputs": [],
   "source": [
    "with open('submission_2.csv', 'w') as fp:\n",
    "    fp.write(\"tripid,prediction\\n\")\n",
    "    for i,p in enumerate(y_pred):\n",
    "        valuee = ('1' if p == 'correct' else '0')\n",
    "        fp.write(\"{},{}\\n\".format(test_data['tripid'].iloc[i], valuee))"
   ]
  },
  {
   "cell_type": "code",
   "execution_count": null,
   "metadata": {},
   "outputs": [],
   "source": []
  }
 ],
 "metadata": {
  "kernelspec": {
   "display_name": "Python 3",
   "language": "python",
   "name": "python3"
  },
  "language_info": {
   "codemirror_mode": {
    "name": "ipython",
    "version": 3
   },
   "file_extension": ".py",
   "mimetype": "text/x-python",
   "name": "python",
   "nbconvert_exporter": "python",
   "pygments_lexer": "ipython3",
   "version": "3.7.6"
  }
 },
 "nbformat": 4,
 "nbformat_minor": 4
}